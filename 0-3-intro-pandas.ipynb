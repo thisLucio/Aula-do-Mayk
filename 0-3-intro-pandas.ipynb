{
 "cells": [
  {
   "cell_type": "markdown",
   "id": "a71290d5-d6f0-4bf1-b68d-ed70fe7625b6",
   "metadata": {},
   "source": [
    "Introdução a biblioteca pandas"
   ]
  },
  {
   "cell_type": "code",
   "execution_count": 1,
   "id": "7eaceb5c-a73c-4c5c-bdc8-af82891cb0b3",
   "metadata": {},
   "outputs": [],
   "source": [
    "import pandas as pd"
   ]
  },
  {
   "cell_type": "markdown",
   "id": "8325adb6-cb54-40d4-ac9b-5e079ead6cab",
   "metadata": {},
   "source": [
    "Criando uma serie"
   ]
  },
  {
   "cell_type": "code",
   "execution_count": 3,
   "id": "e9e7fe19-2373-45fa-8e56-3434b0c0add1",
   "metadata": {},
   "outputs": [
    {
     "data": {
      "text/plain": [
       "0    0.25\n",
       "1    0.50\n",
       "2    0.75\n",
       "3    1.00\n",
       "dtype: float64"
      ]
     },
     "execution_count": 3,
     "metadata": {},
     "output_type": "execute_result"
    }
   ],
   "source": [
    "data = pd.Series([0.25, 0.5, 0.75, 1])\n",
    "data"
   ]
  },
  {
   "cell_type": "markdown",
   "id": "331d327e-7003-430a-964e-fb61a264cf7d",
   "metadata": {
    "tags": []
   },
   "source": [
    "Manipulando as series"
   ]
  },
  {
   "cell_type": "code",
   "execution_count": 9,
   "id": "313b990f-9ad9-4498-907a-faa5521d1a1c",
   "metadata": {},
   "outputs": [
    {
     "data": {
      "text/plain": [
       "a    0.25\n",
       "b    0.50\n",
       "c    0.75\n",
       "d    1.00\n",
       "dtype: float64"
      ]
     },
     "execution_count": 9,
     "metadata": {},
     "output_type": "execute_result"
    }
   ],
   "source": [
    "data = pd.Series([0.25, 0.5, 0.75, 1], index=['a', 'b', 'c', 'd'])\n",
    "data"
   ]
  },
  {
   "cell_type": "markdown",
   "id": "9f24d682-8675-4dbc-a08c-43d772e23840",
   "metadata": {},
   "source": [
    "Acessando series"
   ]
  },
  {
   "cell_type": "code",
   "execution_count": 11,
   "id": "b040f595-be75-4434-9c43-689ff5ca6c12",
   "metadata": {},
   "outputs": [
    {
     "data": {
      "text/plain": [
       "0.75"
      ]
     },
     "execution_count": 11,
     "metadata": {},
     "output_type": "execute_result"
    }
   ],
   "source": [
    "data['c']"
   ]
  },
  {
   "cell_type": "markdown",
   "id": "b83e0192-813e-4de4-9234-505691dcd1ff",
   "metadata": {},
   "source": [
    "Indices numericos"
   ]
  },
  {
   "cell_type": "code",
   "execution_count": 12,
   "id": "23283bf6-5b17-450b-96f0-eaabfdcb29d2",
   "metadata": {},
   "outputs": [
    {
     "data": {
      "text/plain": [
       "0.25"
      ]
     },
     "execution_count": 12,
     "metadata": {},
     "output_type": "execute_result"
    }
   ],
   "source": [
    "data[0]"
   ]
  },
  {
   "cell_type": "markdown",
   "id": "93d30f5b-ab09-4056-865b-685d40af362a",
   "metadata": {},
   "source": [
    "Criando uma serie a partir de um dicionario"
   ]
  },
  {
   "cell_type": "code",
   "execution_count": 15,
   "id": "2c169580-0728-46a1-8517-154ec76abf51",
   "metadata": {},
   "outputs": [
    {
     "data": {
      "text/plain": [
       "{'Araçatuba': 15000, 'Guararapes': 30000, 'Birigui': 30000, 'Penapolis': 40000}"
      ]
     },
     "execution_count": 15,
     "metadata": {},
     "output_type": "execute_result"
    }
   ],
   "source": [
    "populacao_dict = {'Araçatuba':15000, 'Guararapes':30000, 'Birigui': 30000, 'Penapolis':40000}\n",
    "populacao_dict"
   ]
  },
  {
   "cell_type": "code",
   "execution_count": 20,
   "id": "cfcaf777-1f28-4ca4-a7ba-c0dff01b6336",
   "metadata": {},
   "outputs": [
    {
     "data": {
      "text/plain": [
       "Araçatuba     15000\n",
       "Guararapes    30000\n",
       "Birigui       30000\n",
       "Penapolis     40000\n",
       "dtype: int64"
      ]
     },
     "execution_count": 20,
     "metadata": {},
     "output_type": "execute_result"
    }
   ],
   "source": [
    "populacao = pd.Series(populacao_dict)\n",
    "populacao"
   ]
  },
  {
   "cell_type": "markdown",
   "id": "d136cfed-e915-464d-bcf0-8d627e3bff9a",
   "metadata": {},
   "source": [
    "Ascessar os componentes"
   ]
  },
  {
   "cell_type": "code",
   "execution_count": 22,
   "id": "a677214c-b02c-4fee-85d8-93b621005416",
   "metadata": {},
   "outputs": [
    {
     "data": {
      "text/plain": [
       "15000"
      ]
     },
     "execution_count": 22,
     "metadata": {},
     "output_type": "execute_result"
    }
   ],
   "source": [
    "populacao['Araçatuba']"
   ]
  },
  {
   "cell_type": "code",
   "execution_count": 24,
   "id": "6cacaffe-5488-43e2-a9ca-07497da4c1a1",
   "metadata": {},
   "outputs": [
    {
     "data": {
      "text/plain": [
       "Guararapes    30000\n",
       "Birigui       30000\n",
       "Penapolis     40000\n",
       "dtype: int64"
      ]
     },
     "execution_count": 24,
     "metadata": {},
     "output_type": "execute_result"
    }
   ],
   "source": [
    "populacao['Guararapes':'Penapolis']"
   ]
  },
  {
   "cell_type": "markdown",
   "id": "802f470f-f24f-49f1-a3e5-20571ce8cdfd",
   "metadata": {},
   "source": [
    "Pegar o objeto da serie "
   ]
  },
  {
   "cell_type": "code",
   "execution_count": 25,
   "id": "b8b26f22-e198-488b-ac19-5905d307a3d9",
   "metadata": {},
   "outputs": [
    {
     "data": {
      "text/plain": [
       "Index(['Araçatuba', 'Guararapes', 'Birigui', 'Penapolis'], dtype='object')"
      ]
     },
     "execution_count": 25,
     "metadata": {},
     "output_type": "execute_result"
    }
   ],
   "source": [
    "populacao.index"
   ]
  },
  {
   "cell_type": "markdown",
   "id": "a67cbdc7-9300-4865-9eec-f66936fac51f",
   "metadata": {},
   "source": [
    "Segundo elementos dados datafreme"
   ]
  },
  {
   "cell_type": "code",
   "execution_count": 26,
   "id": "1ba30d35-2077-460a-957c-194c0e061bcf",
   "metadata": {},
   "outputs": [
    {
     "data": {
      "text/plain": [
       "{'Araçatuba': 38000,\n",
       " 'Guararapes': 39293,\n",
       " 'Birigui': 348490,\n",
       " 'Penapolis': 404000}"
      ]
     },
     "execution_count": 26,
     "metadata": {},
     "output_type": "execute_result"
    }
   ],
   "source": [
    "area_dict = {'Araçatuba':38000, 'Guararapes':39293, 'Birigui': 348490, 'Penapolis':404000}\n",
    "area_dict"
   ]
  },
  {
   "cell_type": "markdown",
   "id": "fa4ed067-cd38-46b2-8063-48102f0c2fd4",
   "metadata": {},
   "source": [
    "Criando uma serie"
   ]
  },
  {
   "cell_type": "code",
   "execution_count": 27,
   "id": "b5a93569-ec51-4fa0-9ec7-2e376669ab4a",
   "metadata": {},
   "outputs": [
    {
     "data": {
      "text/plain": [
       "Araçatuba      38000\n",
       "Guararapes     39293\n",
       "Birigui       348490\n",
       "Penapolis     404000\n",
       "dtype: int64"
      ]
     },
     "execution_count": 27,
     "metadata": {},
     "output_type": "execute_result"
    }
   ],
   "source": [
    "area = pd.Series(area_dict)\n",
    "area"
   ]
  },
  {
   "cell_type": "markdown",
   "id": "570f470a-7860-49d8-8b26-636bd85e134d",
   "metadata": {},
   "source": [
    "Construindo um dataFrame"
   ]
  },
  {
   "cell_type": "code",
   "execution_count": 28,
   "id": "cf43fcf9-885a-4eb5-985b-d4aae42a8427",
   "metadata": {},
   "outputs": [
    {
     "data": {
      "text/html": [
       "<div>\n",
       "<style scoped>\n",
       "    .dataframe tbody tr th:only-of-type {\n",
       "        vertical-align: middle;\n",
       "    }\n",
       "\n",
       "    .dataframe tbody tr th {\n",
       "        vertical-align: top;\n",
       "    }\n",
       "\n",
       "    .dataframe thead th {\n",
       "        text-align: right;\n",
       "    }\n",
       "</style>\n",
       "<table border=\"1\" class=\"dataframe\">\n",
       "  <thead>\n",
       "    <tr style=\"text-align: right;\">\n",
       "      <th></th>\n",
       "      <th>populacao</th>\n",
       "      <th>area</th>\n",
       "    </tr>\n",
       "  </thead>\n",
       "  <tbody>\n",
       "    <tr>\n",
       "      <th>Araçatuba</th>\n",
       "      <td>15000</td>\n",
       "      <td>38000</td>\n",
       "    </tr>\n",
       "    <tr>\n",
       "      <th>Guararapes</th>\n",
       "      <td>30000</td>\n",
       "      <td>39293</td>\n",
       "    </tr>\n",
       "    <tr>\n",
       "      <th>Birigui</th>\n",
       "      <td>30000</td>\n",
       "      <td>348490</td>\n",
       "    </tr>\n",
       "    <tr>\n",
       "      <th>Penapolis</th>\n",
       "      <td>40000</td>\n",
       "      <td>404000</td>\n",
       "    </tr>\n",
       "  </tbody>\n",
       "</table>\n",
       "</div>"
      ],
      "text/plain": [
       "            populacao    area\n",
       "Araçatuba       15000   38000\n",
       "Guararapes      30000   39293\n",
       "Birigui         30000  348490\n",
       "Penapolis       40000  404000"
      ]
     },
     "execution_count": 28,
     "metadata": {},
     "output_type": "execute_result"
    }
   ],
   "source": [
    "cidades = pd.DataFrame({'populacao': populacao, 'area': area})\n",
    "cidades"
   ]
  },
  {
   "cell_type": "code",
   "execution_count": 29,
   "id": "2a896f03-15b2-47af-bf62-06aacce1d924",
   "metadata": {},
   "outputs": [
    {
     "data": {
      "text/plain": [
       "Index(['Araçatuba', 'Guararapes', 'Birigui', 'Penapolis'], dtype='object')"
      ]
     },
     "execution_count": 29,
     "metadata": {},
     "output_type": "execute_result"
    }
   ],
   "source": [
    "cidades.index"
   ]
  },
  {
   "cell_type": "markdown",
   "id": "e3b1ed0f-724c-4eeb-958a-a05b91bbb938",
   "metadata": {},
   "source": [
    "Colunas de um dataframe"
   ]
  },
  {
   "cell_type": "code",
   "execution_count": 30,
   "id": "ae974892-9688-49fa-977a-19646557db69",
   "metadata": {},
   "outputs": [
    {
     "data": {
      "text/plain": [
       "Index(['populacao', 'area'], dtype='object')"
      ]
     },
     "execution_count": 30,
     "metadata": {},
     "output_type": "execute_result"
    }
   ],
   "source": [
    "cidades.columns"
   ]
  },
  {
   "cell_type": "markdown",
   "id": "c4cb45d6-98ac-4391-b08f-9473b77a786e",
   "metadata": {},
   "source": [
    "Ascesando dataframe pelo index"
   ]
  },
  {
   "cell_type": "code",
   "execution_count": 31,
   "id": "a21b2e10-deca-4587-aaf2-af275b16ce16",
   "metadata": {},
   "outputs": [
    {
     "data": {
      "text/plain": [
       "Araçatuba      38000\n",
       "Guararapes     39293\n",
       "Birigui       348490\n",
       "Penapolis     404000\n",
       "Name: area, dtype: int64"
      ]
     },
     "execution_count": 31,
     "metadata": {},
     "output_type": "execute_result"
    }
   ],
   "source": [
    "cidades['area']"
   ]
  },
  {
   "cell_type": "markdown",
   "id": "f6c39cfe-ab57-4893-95fb-29c7da2e0afe",
   "metadata": {},
   "source": [
    "Dataframe construção"
   ]
  },
  {
   "cell_type": "code",
   "execution_count": 33,
   "id": "a8d95f23-6b1e-46ea-aaad-93c12be9d7ae",
   "metadata": {},
   "outputs": [
    {
     "data": {
      "text/html": [
       "<div>\n",
       "<style scoped>\n",
       "    .dataframe tbody tr th:only-of-type {\n",
       "        vertical-align: middle;\n",
       "    }\n",
       "\n",
       "    .dataframe tbody tr th {\n",
       "        vertical-align: top;\n",
       "    }\n",
       "\n",
       "    .dataframe thead th {\n",
       "        text-align: right;\n",
       "    }\n",
       "</style>\n",
       "<table border=\"1\" class=\"dataframe\">\n",
       "  <thead>\n",
       "    <tr style=\"text-align: right;\">\n",
       "      <th></th>\n",
       "      <th>pop</th>\n",
       "    </tr>\n",
       "  </thead>\n",
       "  <tbody>\n",
       "    <tr>\n",
       "      <th>Araçatuba</th>\n",
       "      <td>15000</td>\n",
       "    </tr>\n",
       "    <tr>\n",
       "      <th>Guararapes</th>\n",
       "      <td>30000</td>\n",
       "    </tr>\n",
       "    <tr>\n",
       "      <th>Birigui</th>\n",
       "      <td>30000</td>\n",
       "    </tr>\n",
       "    <tr>\n",
       "      <th>Penapolis</th>\n",
       "      <td>40000</td>\n",
       "    </tr>\n",
       "  </tbody>\n",
       "</table>\n",
       "</div>"
      ],
      "text/plain": [
       "              pop\n",
       "Araçatuba   15000\n",
       "Guararapes  30000\n",
       "Birigui     30000\n",
       "Penapolis   40000"
      ]
     },
     "execution_count": 33,
     "metadata": {},
     "output_type": "execute_result"
    }
   ],
   "source": [
    "pd.DataFrame(populacao, columns=['pop'])"
   ]
  },
  {
   "cell_type": "markdown",
   "id": "72095cfe-505d-4671-af16-63515f8b03e2",
   "metadata": {},
   "source": []
  }
 ],
 "metadata": {
  "kernelspec": {
   "display_name": "Python 3 (ipykernel)",
   "language": "python",
   "name": "python3"
  },
  "language_info": {
   "codemirror_mode": {
    "name": "ipython",
    "version": 3
   },
   "file_extension": ".py",
   "mimetype": "text/x-python",
   "name": "python",
   "nbconvert_exporter": "python",
   "pygments_lexer": "ipython3",
   "version": "3.7.12"
  }
 },
 "nbformat": 4,
 "nbformat_minor": 5
}
