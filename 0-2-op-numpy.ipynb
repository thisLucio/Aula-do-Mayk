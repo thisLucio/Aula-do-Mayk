{
 "cells": [
  {
   "cell_type": "code",
   "execution_count": 3,
   "id": "cdd61d7d-f69f-46d4-8a3a-47f4b6504ab3",
   "metadata": {},
   "outputs": [],
   "source": [
    "import numpy as np"
   ]
  },
  {
   "cell_type": "code",
   "execution_count": 5,
   "id": "9109ac66-6c12-408a-8250-74f6c0cb2b2f",
   "metadata": {},
   "outputs": [],
   "source": [
    "a = np.array([10, 20, 30, 40, 50])\n",
    "b = np.arange(5)"
   ]
  },
  {
   "cell_type": "code",
   "execution_count": 6,
   "id": "efb91e2a-54df-4a19-b5ed-c81b9c42af3e",
   "metadata": {},
   "outputs": [
    {
     "data": {
      "text/plain": [
       "array([10, 20, 30, 40, 50])"
      ]
     },
     "execution_count": 6,
     "metadata": {},
     "output_type": "execute_result"
    }
   ],
   "source": [
    "a"
   ]
  },
  {
   "cell_type": "code",
   "execution_count": 7,
   "id": "5091f698-1417-4bce-9d54-55ef38f96212",
   "metadata": {},
   "outputs": [
    {
     "data": {
      "text/plain": [
       "array([0, 1, 2, 3, 4])"
      ]
     },
     "execution_count": 7,
     "metadata": {},
     "output_type": "execute_result"
    }
   ],
   "source": [
    "b"
   ]
  },
  {
   "cell_type": "markdown",
   "id": "efc388a9-0d15-467d-99c7-dc104c62d882",
   "metadata": {},
   "source": [
    "Fazendo operações diretas com arrays"
   ]
  },
  {
   "cell_type": "code",
   "execution_count": 8,
   "id": "d3d4f0d3-bf33-4936-ad59-4ff4330e89d3",
   "metadata": {},
   "outputs": [
    {
     "data": {
      "text/plain": [
       "array([10, 19, 28, 37, 46])"
      ]
     },
     "execution_count": 8,
     "metadata": {},
     "output_type": "execute_result"
    }
   ],
   "source": [
    "a - b"
   ]
  },
  {
   "cell_type": "markdown",
   "id": "0a46f569-7ece-4ed4-8d4d-1e7e2615e2c1",
   "metadata": {},
   "source": [
    "Resultado fazendo operações com elementos"
   ]
  },
  {
   "cell_type": "code",
   "execution_count": 35,
   "id": "1b36612c-aa2f-4ea5-9498-8b4ebfd9b017",
   "metadata": {},
   "outputs": [
    {
     "data": {
      "text/plain": [
       "array([200,  40, 200,  80, 200])"
      ]
     },
     "execution_count": 35,
     "metadata": {},
     "output_type": "execute_result"
    }
   ],
   "source": [
    "a * 2"
   ]
  },
  {
   "cell_type": "code",
   "execution_count": 36,
   "id": "457e301f-c2f0-4b3b-b9be-edc25296fb24",
   "metadata": {},
   "outputs": [
    {
     "data": {
      "text/plain": [
       "array([ 0,  1,  4,  9, 16])"
      ]
     },
     "execution_count": 36,
     "metadata": {},
     "output_type": "execute_result"
    }
   ],
   "source": [
    "b**2"
   ]
  },
  {
   "cell_type": "markdown",
   "id": "695fe26a-698f-4a67-8855-bca4b8145ec6",
   "metadata": {},
   "source": [
    "Aplicando operações logicas"
   ]
  },
  {
   "cell_type": "code",
   "execution_count": 37,
   "id": "d92c4833-9082-482e-98a6-de60ef4485cc",
   "metadata": {},
   "outputs": [
    {
     "data": {
      "text/plain": [
       "array([False,  True, False, False, False])"
      ]
     },
     "execution_count": 37,
     "metadata": {},
     "output_type": "execute_result"
    }
   ],
   "source": [
    "a <= 30"
   ]
  },
  {
   "cell_type": "markdown",
   "id": "2e5fd88b-c364-46d6-af0f-f514b3f1c24a",
   "metadata": {},
   "source": [
    "Arrays com matrizes"
   ]
  },
  {
   "cell_type": "code",
   "execution_count": 38,
   "id": "492a300e-5d16-455c-8617-517901cc7cbc",
   "metadata": {},
   "outputs": [],
   "source": [
    "A = np.array([[1, 1], [0, 1]])\n",
    "B = np.array([[2, 0], [3, 4]])"
   ]
  },
  {
   "cell_type": "code",
   "execution_count": 39,
   "id": "163401a3-1db9-4988-a87d-a12ba93d9dcc",
   "metadata": {},
   "outputs": [
    {
     "data": {
      "text/plain": [
       "array([[1, 1],\n",
       "       [0, 1]])"
      ]
     },
     "execution_count": 39,
     "metadata": {},
     "output_type": "execute_result"
    }
   ],
   "source": [
    "A"
   ]
  },
  {
   "cell_type": "code",
   "execution_count": 40,
   "id": "05ef73d7-d4fd-424f-9407-98fc82e7d0e2",
   "metadata": {},
   "outputs": [
    {
     "data": {
      "text/plain": [
       "array([[2, 0],\n",
       "       [3, 4]])"
      ]
     },
     "execution_count": 40,
     "metadata": {},
     "output_type": "execute_result"
    }
   ],
   "source": [
    "B"
   ]
  },
  {
   "cell_type": "markdown",
   "id": "89830cd6-30da-4b0a-bc8c-97d445463a58",
   "metadata": {},
   "source": [
    "Aplicando operações com os elementos das matrizes\n"
   ]
  },
  {
   "cell_type": "code",
   "execution_count": 41,
   "id": "262394f7-bb5a-4c10-bbe4-13e37dc0e1aa",
   "metadata": {},
   "outputs": [
    {
     "data": {
      "text/plain": [
       "array([[2, 0],\n",
       "       [0, 4]])"
      ]
     },
     "execution_count": 41,
     "metadata": {},
     "output_type": "execute_result"
    }
   ],
   "source": [
    "A * B"
   ]
  },
  {
   "cell_type": "code",
   "execution_count": 42,
   "id": "c12fa093-07d9-4ed7-b221-6c060570c324",
   "metadata": {},
   "outputs": [
    {
     "data": {
      "text/plain": [
       "array([[5, 4],\n",
       "       [3, 4]])"
      ]
     },
     "execution_count": 42,
     "metadata": {},
     "output_type": "execute_result"
    }
   ],
   "source": [
    "A @ B"
   ]
  },
  {
   "cell_type": "markdown",
   "id": "d53a69f4-359e-48a0-be57-f66439a43ec1",
   "metadata": {},
   "source": [
    "Combinando tecnicas, criando matrizes, visoes, view(filtros)"
   ]
  },
  {
   "cell_type": "code",
   "execution_count": 43,
   "id": "8209c85f-f9b0-497c-8bc9-8384c38ab454",
   "metadata": {},
   "outputs": [
    {
     "data": {
      "text/plain": [
       "array([100,  20, 100,  40, 100])"
      ]
     },
     "execution_count": 43,
     "metadata": {},
     "output_type": "execute_result"
    }
   ],
   "source": [
    "a"
   ]
  },
  {
   "cell_type": "code",
   "execution_count": 44,
   "id": "49bfc99b-8e1d-4225-8837-f24d07aa0241",
   "metadata": {},
   "outputs": [
    {
     "data": {
      "text/plain": [
       "100"
      ]
     },
     "execution_count": 44,
     "metadata": {},
     "output_type": "execute_result"
    }
   ],
   "source": [
    "a[2]"
   ]
  },
  {
   "cell_type": "markdown",
   "id": "a458c158-0bdd-4b49-bc4f-84a62f635765",
   "metadata": {},
   "source": [
    "Pegando por intervalos"
   ]
  },
  {
   "cell_type": "code",
   "execution_count": 45,
   "id": "15d0d8b0-c054-453e-a1b2-b20d87f5533c",
   "metadata": {},
   "outputs": [
    {
     "data": {
      "text/plain": [
       "array([100,  40, 100])"
      ]
     },
     "execution_count": 45,
     "metadata": {},
     "output_type": "execute_result"
    }
   ],
   "source": [
    "a[2:5]"
   ]
  },
  {
   "cell_type": "code",
   "execution_count": 46,
   "id": "d2d52a2f-b78d-4b05-8bed-c9ca6ff09654",
   "metadata": {},
   "outputs": [],
   "source": [
    "a[:5:2] = 100"
   ]
  },
  {
   "cell_type": "code",
   "execution_count": 47,
   "id": "bcdc1a5f-036b-4a04-acb1-bba08f73dcc6",
   "metadata": {},
   "outputs": [
    {
     "data": {
      "text/plain": [
       "array([100,  20, 100,  40, 100])"
      ]
     },
     "execution_count": 47,
     "metadata": {},
     "output_type": "execute_result"
    }
   ],
   "source": [
    "a"
   ]
  },
  {
   "cell_type": "markdown",
   "id": "01f75179-3584-4fe2-8c43-3524b77ee1f2",
   "metadata": {},
   "source": [
    "Formas para criar arrays(espaçamentos de memorias)"
   ]
  },
  {
   "cell_type": "code",
   "execution_count": 54,
   "id": "07055b5f-9d34-4d7f-9f8b-97f10ef8c293",
   "metadata": {},
   "outputs": [
    {
     "data": {
      "text/plain": [
       "array([0, 1, 2, 3, 4])"
      ]
     },
     "execution_count": 54,
     "metadata": {},
     "output_type": "execute_result"
    }
   ],
   "source": [
    "a"
   ]
  },
  {
   "cell_type": "code",
   "execution_count": 55,
   "id": "d24caf8d-c424-4c94-ba8d-f41976383b07",
   "metadata": {},
   "outputs": [
    {
     "data": {
      "text/plain": [
       "array([0, 1, 2, 3, 4])"
      ]
     },
     "execution_count": 55,
     "metadata": {},
     "output_type": "execute_result"
    }
   ],
   "source": [
    "b"
   ]
  },
  {
   "cell_type": "code",
   "execution_count": 56,
   "id": "36b18047-578d-4698-9d3f-7058f745c4ed",
   "metadata": {},
   "outputs": [],
   "source": [
    "b = a"
   ]
  },
  {
   "cell_type": "code",
   "execution_count": 57,
   "id": "7f617e43-4ac5-47d5-8a72-60b101b7478b",
   "metadata": {},
   "outputs": [
    {
     "data": {
      "text/plain": [
       "array([0, 1, 2, 3, 4])"
      ]
     },
     "execution_count": 57,
     "metadata": {},
     "output_type": "execute_result"
    }
   ],
   "source": [
    "a"
   ]
  },
  {
   "cell_type": "code",
   "execution_count": 58,
   "id": "a5bc82fb-b6ed-493d-a022-7ca470971b43",
   "metadata": {},
   "outputs": [
    {
     "data": {
      "text/plain": [
       "True"
      ]
     },
     "execution_count": 58,
     "metadata": {},
     "output_type": "execute_result"
    }
   ],
   "source": [
    "b is a"
   ]
  },
  {
   "cell_type": "markdown",
   "id": "2a878fdd-7cb1-41e9-8fe3-f31053901e8d",
   "metadata": {},
   "source": [
    "Funções(identificador de objetos)"
   ]
  },
  {
   "cell_type": "code",
   "execution_count": 60,
   "id": "477f1a60-562f-4d2f-8521-fdcdc143b1ea",
   "metadata": {},
   "outputs": [
    {
     "data": {
      "text/plain": [
       "139646438955888"
      ]
     },
     "execution_count": 60,
     "metadata": {},
     "output_type": "execute_result"
    }
   ],
   "source": [
    "id(a)"
   ]
  },
  {
   "cell_type": "code",
   "execution_count": 61,
   "id": "6117ae48-332b-4d83-9d15-002143deebb7",
   "metadata": {},
   "outputs": [
    {
     "data": {
      "text/plain": [
       "139646438955888"
      ]
     },
     "execution_count": 61,
     "metadata": {},
     "output_type": "execute_result"
    }
   ],
   "source": [
    "id(b)"
   ]
  },
  {
   "cell_type": "markdown",
   "id": "c196f93f-daf4-4d43-bf19-01a1d7ca9903",
   "metadata": {},
   "source": [
    "Criando copias"
   ]
  },
  {
   "cell_type": "code",
   "execution_count": 63,
   "id": "c4151267-92b8-45c5-a24f-7b7bff1520f7",
   "metadata": {},
   "outputs": [],
   "source": [
    "d = a.copy()"
   ]
  },
  {
   "cell_type": "code",
   "execution_count": 64,
   "id": "b5eb909d-1ede-4bb3-9e64-4224bb4a4816",
   "metadata": {},
   "outputs": [
    {
     "data": {
      "text/plain": [
       "array([0, 1, 2, 3, 4])"
      ]
     },
     "execution_count": 64,
     "metadata": {},
     "output_type": "execute_result"
    }
   ],
   "source": [
    "d"
   ]
  },
  {
   "cell_type": "code",
   "execution_count": 65,
   "id": "2e16e9d4-d9b9-41c2-9b40-372742f18232",
   "metadata": {},
   "outputs": [
    {
     "data": {
      "text/plain": [
       "False"
      ]
     },
     "execution_count": 65,
     "metadata": {},
     "output_type": "execute_result"
    }
   ],
   "source": [
    "d is a"
   ]
  },
  {
   "cell_type": "code",
   "execution_count": 66,
   "id": "a393b00f-50c7-4fbe-95d3-c82409e4a47c",
   "metadata": {},
   "outputs": [],
   "source": [
    "d[0] = 200"
   ]
  },
  {
   "cell_type": "code",
   "execution_count": 67,
   "id": "1b941fef-16a9-4f3b-9759-0ac62b6e1f16",
   "metadata": {},
   "outputs": [
    {
     "data": {
      "text/plain": [
       "array([200,   1,   2,   3,   4])"
      ]
     },
     "execution_count": 67,
     "metadata": {},
     "output_type": "execute_result"
    }
   ],
   "source": [
    "d"
   ]
  },
  {
   "cell_type": "code",
   "execution_count": 68,
   "id": "0352d5db-a9b9-4f80-8e69-a084be400a56",
   "metadata": {},
   "outputs": [
    {
     "data": {
      "text/plain": [
       "array([0, 1, 2, 3, 4])"
      ]
     },
     "execution_count": 68,
     "metadata": {},
     "output_type": "execute_result"
    }
   ],
   "source": [
    "a"
   ]
  },
  {
   "cell_type": "code",
   "execution_count": 69,
   "id": "5a8ad31f-d562-480a-a8ce-3f54ca49136f",
   "metadata": {},
   "outputs": [
    {
     "data": {
      "text/plain": [
       "array([300,   1,   2,   3,   4])"
      ]
     },
     "execution_count": 69,
     "metadata": {},
     "output_type": "execute_result"
    }
   ],
   "source": [
    "b[0] = 300\n",
    "a"
   ]
  },
  {
   "cell_type": "code",
   "execution_count": null,
   "id": "dcaf4b87-baf6-4556-8b93-12713fa57028",
   "metadata": {},
   "outputs": [],
   "source": []
  }
 ],
 "metadata": {
  "kernelspec": {
   "display_name": "Python 3 (ipykernel)",
   "language": "python",
   "name": "python3"
  },
  "language_info": {
   "codemirror_mode": {
    "name": "ipython",
    "version": 3
   },
   "file_extension": ".py",
   "mimetype": "text/x-python",
   "name": "python",
   "nbconvert_exporter": "python",
   "pygments_lexer": "ipython3",
   "version": "3.9.6"
  }
 },
 "nbformat": 4,
 "nbformat_minor": 5
}
