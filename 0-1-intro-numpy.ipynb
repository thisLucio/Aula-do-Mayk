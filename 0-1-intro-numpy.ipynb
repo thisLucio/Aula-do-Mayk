{
 "cells": [
  {
   "cell_type": "markdown",
   "id": "bfb6a603-c0eb-438e-b605-63ab90cd5440",
   "metadata": {},
   "source": [
    "Importando a biblioteca"
   ]
  },
  {
   "cell_type": "markdown",
   "id": "52ba686a-af8f-4aa7-9908-cc53bc8c51f7",
   "metadata": {},
   "source": [
    "Importando a biblioteca"
   ]
  },
  {
   "cell_type": "code",
   "execution_count": 1,
   "id": "ffbb8051-0d59-4107-9d41-f7900e672938",
   "metadata": {},
   "outputs": [],
   "source": [
    "import numpy as np "
   ]
  },
  {
   "cell_type": "markdown",
   "id": "520e7051-793b-44c2-ab51-4e8d97b7c836",
   "metadata": {},
   "source": [
    "Cria um array "
   ]
  },
  {
   "cell_type": "code",
   "execution_count": 2,
   "id": "36b0cb5b-faca-4c0b-b48b-4e43326b5135",
   "metadata": {},
   "outputs": [
    {
     "data": {
      "text/plain": [
       "array([1, 2, 3])"
      ]
     },
     "execution_count": 2,
     "metadata": {},
     "output_type": "execute_result"
    }
   ],
   "source": [
    "np.array([1, 2, 3 ])"
   ]
  },
  {
   "cell_type": "markdown",
   "id": "520d65f5-98c5-4859-bad2-3477ec4c3e85",
   "metadata": {},
   "source": [
    "Criando um array de 0 em cinco posições"
   ]
  },
  {
   "cell_type": "code",
   "execution_count": 3,
   "id": "c3950501-f7e8-43c0-bf7c-647c2e2500f3",
   "metadata": {},
   "outputs": [
    {
     "data": {
      "text/plain": [
       "array([0., 0., 0., 0., 0.])"
      ]
     },
     "execution_count": 3,
     "metadata": {},
     "output_type": "execute_result"
    }
   ],
   "source": [
    "np.zeros(5)"
   ]
  },
  {
   "cell_type": "markdown",
   "id": "db48a2ef-8b1a-4b8a-9b19-a7d3bd786be0",
   "metadata": {},
   "source": [
    "Essa função vez de colocar valor 0, ele coloca valor 1 "
   ]
  },
  {
   "cell_type": "code",
   "execution_count": 4,
   "id": "b25fc24f-a308-487b-8980-2c13d1fc59bb",
   "metadata": {},
   "outputs": [
    {
     "data": {
      "text/plain": [
       "array([1., 1., 1., 1., 1.])"
      ]
     },
     "execution_count": 4,
     "metadata": {},
     "output_type": "execute_result"
    }
   ],
   "source": [
    "np.ones(5)"
   ]
  },
  {
   "cell_type": "markdown",
   "id": "f1120986-b26d-4660-a9b8-3f62626db06e",
   "metadata": {},
   "source": [
    "Essa terceira função ela cria um array os elementos terá valor aleatorio "
   ]
  },
  {
   "cell_type": "code",
   "execution_count": 5,
   "id": "da57e49a-f19b-4593-90f7-a6aa2facf847",
   "metadata": {},
   "outputs": [
    {
     "data": {
      "text/plain": [
       "array([6.95332180e-310, 0.00000000e+000, 0.00000000e+000, 0.00000000e+000,\n",
       "       1.93101617e-312, 3.80132583e+175, 4.90464331e-062, 7.79078335e-091,\n",
       "       5.70219451e-066, 8.74029144e-313])"
      ]
     },
     "execution_count": 5,
     "metadata": {},
     "output_type": "execute_result"
    }
   ],
   "source": [
    "np.empty(10)"
   ]
  },
  {
   "cell_type": "markdown",
   "id": "d7b475be-330c-4abf-8f67-9be68648221a",
   "metadata": {},
   "source": [
    "Cria um array dentro de um intervalo especifico "
   ]
  },
  {
   "cell_type": "code",
   "execution_count": 6,
   "id": "4be18f19-dabe-4a2e-a52a-af1f09b5fa36",
   "metadata": {},
   "outputs": [
    {
     "data": {
      "text/plain": [
       "array([0, 1, 2, 3])"
      ]
     },
     "execution_count": 6,
     "metadata": {},
     "output_type": "execute_result"
    }
   ],
   "source": [
    "np.arange(4)"
   ]
  },
  {
   "cell_type": "markdown",
   "id": "b808492e-86f1-4755-951e-5c5733127f7e",
   "metadata": {},
   "source": [
    "Definindo um intervalo especifico(Inclui o primeiro elemento, mas exclui o ultimo)"
   ]
  },
  {
   "cell_type": "code",
   "execution_count": 7,
   "id": "1908bed7-07e4-4c07-9930-ba9cb917b813",
   "metadata": {},
   "outputs": [
    {
     "data": {
      "text/plain": [
       "array([1, 3, 5, 7])"
      ]
     },
     "execution_count": 7,
     "metadata": {},
     "output_type": "execute_result"
    }
   ],
   "source": [
    "np.arange(1, 9, 2)"
   ]
  },
  {
   "cell_type": "markdown",
   "id": "35e3ec12-3240-462a-9fa5-8df1052127c9",
   "metadata": {},
   "source": [
    "Separa os elemento limearmente, retornando quatro elementos"
   ]
  },
  {
   "cell_type": "code",
   "execution_count": 8,
   "id": "8ab49bea-26d4-4815-b58d-971467363c7f",
   "metadata": {},
   "outputs": [
    {
     "data": {
      "text/plain": [
       "array([ 0. ,  2.5,  5. ,  7.5, 10. ])"
      ]
     },
     "execution_count": 8,
     "metadata": {},
     "output_type": "execute_result"
    }
   ],
   "source": [
    "np.linspace(0, 10, num=5)"
   ]
  },
  {
   "cell_type": "markdown",
   "id": "3f7407da-2139-4e12-92a2-14217cd447ea",
   "metadata": {},
   "source": [
    "Especifica o tipos de dados forçando certos valores"
   ]
  },
  {
   "cell_type": "code",
   "execution_count": 11,
   "id": "fee5cb2a-f860-491c-b0a3-8318a44672dc",
   "metadata": {},
   "outputs": [
    {
     "data": {
      "text/plain": [
       "array([0, 0, 0])"
      ]
     },
     "execution_count": 11,
     "metadata": {},
     "output_type": "execute_result"
    }
   ],
   "source": [
    "np.zeros(3, dtype=np.int64)"
   ]
  },
  {
   "cell_type": "markdown",
   "id": "d306d3b0-cfb4-4c08-83bb-7600bf4be084",
   "metadata": {},
   "source": [
    "Cria um array  e ordena os elementos"
   ]
  },
  {
   "cell_type": "code",
   "execution_count": 12,
   "id": "42b1ae6c-7d85-4e52-975a-dfe364579525",
   "metadata": {},
   "outputs": [],
   "source": [
    "arr = np.array([12, 1, 5, 10, 3, 2, 7])"
   ]
  },
  {
   "cell_type": "markdown",
   "id": "d2ff5ff1-6993-43cb-ae22-2791ef4b6b7a",
   "metadata": {},
   "source": [
    "Salvando o array na variavel arr, chama a função a ordenação com nsort passando o array retornando outro array ordenado"
   ]
  },
  {
   "cell_type": "code",
   "execution_count": 13,
   "id": "8fd1ef2c-e7b1-406b-b45f-5fc8ccb7f58e",
   "metadata": {},
   "outputs": [
    {
     "data": {
      "text/plain": [
       "array([ 1,  2,  3,  5,  7, 10, 12])"
      ]
     },
     "execution_count": 13,
     "metadata": {},
     "output_type": "execute_result"
    }
   ],
   "source": [
    "np.sort(arr)"
   ]
  },
  {
   "cell_type": "markdown",
   "id": "95e975f8-accb-43b8-807c-3fa9ebeda618",
   "metadata": {},
   "source": [
    "Concatena dois array diferente"
   ]
  },
  {
   "cell_type": "code",
   "execution_count": 14,
   "id": "89fdcd9e-8341-496f-adde-7d96967c8c29",
   "metadata": {},
   "outputs": [
    {
     "data": {
      "text/plain": [
       "array([1, 2, 3, 4, 5, 6])"
      ]
     },
     "execution_count": 14,
     "metadata": {},
     "output_type": "execute_result"
    }
   ],
   "source": [
    "a = np.array([1, 2, 3])\n",
    "b = np.array([4, 5, 6]) \n",
    "np.concatenate((a, b))"
   ]
  },
  {
   "cell_type": "markdown",
   "id": "195e1f39-4cf4-43ab-b747-555f2ecea2c7",
   "metadata": {},
   "source": [
    "Essa função trabalha com qualquer dimenção "
   ]
  },
  {
   "cell_type": "code",
   "execution_count": 15,
   "id": "ba06f371-5de8-4ad8-a770-3016925d3c21",
   "metadata": {},
   "outputs": [],
   "source": [
    "matriz = np.array([\n",
    "    [1, 2, 3],\n",
    "    [4, 5, 6],\n",
    "    [7, 8, 9],\n",
    "    ])"
   ]
  },
  {
   "cell_type": "markdown",
   "id": "75a1ee7c-aa8e-41a1-90a4-697bffd84aa5",
   "metadata": {},
   "source": [
    "Aqui ele irá retornar os valores guardados dentro da váriavel matriz"
   ]
  },
  {
   "cell_type": "code",
   "execution_count": 16,
   "id": "6e698b8e-c8a0-4243-ba42-89e326f02d24",
   "metadata": {},
   "outputs": [
    {
     "data": {
      "text/plain": [
       "array([[1, 2, 3],\n",
       "       [4, 5, 6],\n",
       "       [7, 8, 9]])"
      ]
     },
     "execution_count": 16,
     "metadata": {},
     "output_type": "execute_result"
    }
   ],
   "source": [
    "matriz"
   ]
  },
  {
   "cell_type": "markdown",
   "id": "3e5b3a6d-45c5-4ed4-85cb-3f28ff4871d0",
   "metadata": {},
   "source": [
    "Verifica quantas dimenções a estrutura no objeto"
   ]
  },
  {
   "cell_type": "code",
   "execution_count": 17,
   "id": "5f54c195-ae69-4840-856f-2b205f6bb35d",
   "metadata": {},
   "outputs": [
    {
     "data": {
      "text/plain": [
       "2"
      ]
     },
     "execution_count": 17,
     "metadata": {},
     "output_type": "execute_result"
    }
   ],
   "source": [
    "matriz.ndim"
   ]
  },
  {
   "cell_type": "markdown",
   "id": "a925f114-bd5d-4ac2-a00c-0c02d4eb461d",
   "metadata": {},
   "source": [
    "Verifica quantos atributos tem "
   ]
  },
  {
   "cell_type": "code",
   "execution_count": 19,
   "id": "83c33f2c-3f61-4121-81ca-49cfa20121e3",
   "metadata": {},
   "outputs": [
    {
     "data": {
      "text/plain": [
       "9"
      ]
     },
     "execution_count": 19,
     "metadata": {},
     "output_type": "execute_result"
    }
   ],
   "source": [
    "matriz.size"
   ]
  },
  {
   "cell_type": "markdown",
   "id": "15d0994d-286b-4d33-a301-7136a59486e9",
   "metadata": {},
   "source": [
    "Esse atributo retorna qual o formato "
   ]
  },
  {
   "cell_type": "code",
   "execution_count": 20,
   "id": "e0a4d066-744b-4622-bb11-2933c1ee2f71",
   "metadata": {},
   "outputs": [
    {
     "data": {
      "text/plain": [
       "(3, 3)"
      ]
     },
     "execution_count": 20,
     "metadata": {},
     "output_type": "execute_result"
    }
   ],
   "source": [
    "matriz.shape"
   ]
  },
  {
   "cell_type": "markdown",
   "id": "0e49be84-ce66-4625-8f75-fbed12cd2f9c",
   "metadata": {},
   "source": [
    "Trasforma essa matriz mudando o formato da estrutura"
   ]
  },
  {
   "cell_type": "code",
   "execution_count": 21,
   "id": "3337de96-4c3a-443b-8290-9c6538ac37cc",
   "metadata": {},
   "outputs": [
    {
     "data": {
      "text/plain": [
       "array([[1, 2, 3, 4, 5, 6, 7, 8, 9]])"
      ]
     },
     "execution_count": 21,
     "metadata": {},
     "output_type": "execute_result"
    }
   ],
   "source": [
    "matriz.reshape(1, 9)"
   ]
  },
  {
   "cell_type": "markdown",
   "id": "1aa4c029-4957-4fc3-aec5-51dd03194ca4",
   "metadata": {},
   "source": [
    "Pega qualquer matriz convertendo em uma linha ou columa "
   ]
  },
  {
   "cell_type": "code",
   "execution_count": 22,
   "id": "8a1b1cd1-e222-43ff-9883-2d3c6bd90834",
   "metadata": {},
   "outputs": [
    {
     "data": {
      "text/plain": [
       "(3,)"
      ]
     },
     "execution_count": 22,
     "metadata": {},
     "output_type": "execute_result"
    }
   ],
   "source": [
    "a.shape"
   ]
  },
  {
   "cell_type": "markdown",
   "id": "7389ead6-2e82-4989-be03-20450bcaca05",
   "metadata": {},
   "source": [
    "Pega a estrutura e adiciona uma nova dimenção no objeto"
   ]
  },
  {
   "cell_type": "code",
   "execution_count": 23,
   "id": "0987fd24-bbb1-4c01-835c-d035e3e2adc6",
   "metadata": {},
   "outputs": [
    {
     "data": {
      "text/plain": [
       "array([[1, 2, 3]])"
      ]
     },
     "execution_count": 23,
     "metadata": {},
     "output_type": "execute_result"
    }
   ],
   "source": [
    "a[np.newaxis, :]"
   ]
  },
  {
   "cell_type": "markdown",
   "id": "cfe0f489-652c-4f7c-bece-b47e5332160c",
   "metadata": {},
   "source": [
    "Mostrará o shape da nova estrutura "
   ]
  },
  {
   "cell_type": "code",
   "execution_count": 26,
   "id": "9a63d505-4167-4c66-861b-741286514cf4",
   "metadata": {},
   "outputs": [
    {
     "data": {
      "text/plain": [
       "(1, 3)"
      ]
     },
     "execution_count": 26,
     "metadata": {},
     "output_type": "execute_result"
    }
   ],
   "source": [
    "a[np.newaxis, :].shape"
   ]
  },
  {
   "cell_type": "code",
   "execution_count": null,
   "id": "42e86369-a517-4c3c-95e6-a685b8a5e6f6",
   "metadata": {},
   "outputs": [],
   "source": []
  }
 ],
 "metadata": {
  "kernelspec": {
   "display_name": "Python 3 (ipykernel)",
   "language": "python",
   "name": "python3"
  },
  "language_info": {
   "codemirror_mode": {
    "name": "ipython",
    "version": 3
   },
   "file_extension": ".py",
   "mimetype": "text/x-python",
   "name": "python",
   "nbconvert_exporter": "python",
   "pygments_lexer": "ipython3",
   "version": "3.7.12"
  }
 },
 "nbformat": 4,
 "nbformat_minor": 5
}
